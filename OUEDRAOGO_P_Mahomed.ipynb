{
 "cells": [
  {
   "cell_type": "markdown",
   "id": "a7c1b07a-95fc-4f58-9561-0d4d8133dd21",
   "metadata": {},
   "source": [
    "# Mini Projet"
   ]
  },
  {
   "cell_type": "markdown",
   "id": "a06e491a-973b-4ab9-a3fd-89ab8b2ec41d",
   "metadata": {},
   "source": [
    "Le but de cet exercice est d'extraire un sous-ensemble de données à partir d'une base de données plus grande.<br>\n",
    "Supposons que vous ayez besoin de réaliser une application qui prend en entrée, des noms de lieux du Burkina Faso, avec des informations telles que la latitude/longitude.<br>\n",
    "Pour ce faire, nous décidons d'extraire ces informations à partir du server de référencement géoname (http://www.geonames.org/). <br>Vous allez procéder de la façon suivante :\n",
    "<br>1 - Exporter la base de données qui recense les informations sur le Burkina Faso (https://download.geonames.org/export/dump/).\n",
    "<br>Pour ce faire, reférez-vous au Readme, décrit à la fin de la page pour identifier le code iso correspondant au Burkina Faso\n",
    "<br>2 - Télécharger le fichier zip correspondant\n",
    "<br>3 - Appliquer les opérations de prétraitement et filtres nécessaires à ce fichier, pour:\n",
    "<br> 3.1 Ne garder que les colonnes correspondantes Identifiants, Noms de lieux, latitudes, longitudes\n",
    "<br> 3.2 Renommez les avec les noms suivants : 'ID', 'location_name', 'lat', 'long'\n",
    "<br> 3.3 Sauvegarder ces données dans un fichier CSV, nommez-le burkina_location.csv\n",
    "<br> 4 - Opérations sur le fichier CSV burkina_location.csv.\n",
    "<br> 4.1 Extraire les données contenant le nom 'gounghin', enregistrez-le sous le fichier gounghin.csv\n",
    "<br> 4.2 extraire la sous-partie de la base de données (fichier burkina_location.csv), dont les noms les premières lettres des noms de lieux sont compris entre 'A' et 'P' (ordre alphabétique)\n",
    "<br> 4.3 Identifiez respectivement, la latitude, la longitude minimale et les noms de lieux correspondants\n",
    "<br> 4.4 Quels sont les lieux dont les coordonnées sont comprises entre (lat >= 11 et lon <= 0.5)\n",
    "<br>5 - Sorties Excel\n",
    "<br>À partir des extractions de l'étape 4 :\n",
    "<br> 5.1 Créer un fichier Excel et nommer le : mini_projet\n",
    "<br> 5.2 Créer une feuille dans ce fichier, du nom gounghin et enregistrer les données contenant le nom 'gounghin' obtenues dans 4.1\n",
    "<br> 5.3 Créer une second feuille dans ce même fichier, du nom A_to_P et enregistrer les données de 4.2"
   ]
  },
  {
   "cell_type": "markdown",
   "id": "7d9f3a8f-09f1-40d9-8b44-67c24adecc16",
   "metadata": {},
   "source": [
    "## 1 - Exporter la base de données qui recense les informations sur le Burkina Faso"
   ]
  },
  {
   "cell_type": "code",
   "execution_count": 2,
   "id": "b4344c24-910b-4059-93c0-66e0e77fef7e",
   "metadata": {},
   "outputs": [],
   "source": [
    "# Iportation des library\n",
    "import requests\n",
    "import zipfile\n",
    "import io\n",
    "import pandas as pd"
   ]
  },
  {
   "cell_type": "code",
   "execution_count": 3,
   "id": "3bf357a0-6db1-472e-9e36-40215559eaa0",
   "metadata": {},
   "outputs": [],
   "source": [
    "# Identification du code iso correspondant au Burkina Faso\n",
    "zipFileName = \"BF.zip\"\n",
    "url = \"https://download.geonames.org/export/dump/BF.zip\""
   ]
  },
  {
   "cell_type": "markdown",
   "id": "9c4586f6-dc46-4d8d-a1a0-e73774bd590d",
   "metadata": {},
   "source": [
    "## 2 - Télécharger le fichier zip correspondant"
   ]
  },
  {
   "cell_type": "code",
   "execution_count": 4,
   "id": "92e13731-c837-4b42-8de9-3c265ba368f1",
   "metadata": {},
   "outputs": [
    {
     "name": "stdout",
     "output_type": "stream",
     "text": [
      "Extraction du fichier éffectuée avec succès.\n"
     ]
    }
   ],
   "source": [
    "# Téléchargement et extraction du fichier ZIP\n",
    "InputData = \"Input_Data\"\n",
    "def DUMP(url, codeIso):\n",
    "    try:\n",
    "        # Téléchargement du fichier ZIP\n",
    "        response = requests.get(url)\n",
    "        with open(zipFileName, 'wb') as f:\n",
    "            f.write(response.content)\n",
    "        # Extraction du fichier ZIP\n",
    "        with zipfile.ZipFile(zipFileName, 'r') as zf:\n",
    "            zf.extractall(InputData)            \n",
    "        print(\"Extraction du fichier éffectuée avec succès.\")\n",
    "    except Exception as e:\n",
    "        print(\"Une erreur s'est produite lors du téléchargement et de l'extraction du fichier ZIP :\", e)\n",
    "# Téléchargement et extraction du fichier ZIP\n",
    "DUMP(url, zipFileName)\n"
   ]
  },
  {
   "cell_type": "markdown",
   "id": "43239848-8951-46c9-a45a-827d5f62513f",
   "metadata": {},
   "source": [
    "## 3 - Appliquer les opérations de prétraitement et filtres nécessaires à ce fichier, pour ne garder que les colonnes correspondantes"
   ]
  },
  {
   "cell_type": "code",
   "execution_count": 7,
   "id": "6a846b65-920c-47dd-89d9-a6f1da29caf9",
   "metadata": {},
   "outputs": [
    {
     "data": {
      "text/html": [
       "<div>\n",
       "<style scoped>\n",
       "    .dataframe tbody tr th:only-of-type {\n",
       "        vertical-align: middle;\n",
       "    }\n",
       "\n",
       "    .dataframe tbody tr th {\n",
       "        vertical-align: top;\n",
       "    }\n",
       "\n",
       "    .dataframe thead th {\n",
       "        text-align: right;\n",
       "    }\n",
       "</style>\n",
       "<table border=\"1\" class=\"dataframe\">\n",
       "  <thead>\n",
       "    <tr style=\"text-align: right;\">\n",
       "      <th></th>\n",
       "      <th>geonameid</th>\n",
       "      <th>name</th>\n",
       "      <th>asciiname</th>\n",
       "      <th>alternatenames</th>\n",
       "      <th>latitude</th>\n",
       "      <th>longitude</th>\n",
       "      <th>feature class</th>\n",
       "      <th>feature code</th>\n",
       "      <th>country code</th>\n",
       "      <th>cc2</th>\n",
       "      <th>admin1 cod</th>\n",
       "      <th>admin2 code</th>\n",
       "      <th>admin3 code</th>\n",
       "      <th>admin4 code</th>\n",
       "      <th>population</th>\n",
       "      <th>elevation</th>\n",
       "      <th>dem</th>\n",
       "      <th>timezone</th>\n",
       "      <th>modification date</th>\n",
       "    </tr>\n",
       "  </thead>\n",
       "  <tbody>\n",
       "    <tr>\n",
       "      <th>0</th>\n",
       "      <td>2282318</td>\n",
       "      <td>Pouéné</td>\n",
       "      <td>Pouene</td>\n",
       "      <td>NaN</td>\n",
       "      <td>9.72908</td>\n",
       "      <td>-2.78660</td>\n",
       "      <td>H</td>\n",
       "      <td>STM</td>\n",
       "      <td>BF</td>\n",
       "      <td>NaN</td>\n",
       "      <td>00</td>\n",
       "      <td>NaN</td>\n",
       "      <td>NaN</td>\n",
       "      <td>NaN</td>\n",
       "      <td>0</td>\n",
       "      <td>NaN</td>\n",
       "      <td>226</td>\n",
       "      <td>Africa/Abidjan</td>\n",
       "      <td>2023-11-07</td>\n",
       "    </tr>\n",
       "    <tr>\n",
       "      <th>1</th>\n",
       "      <td>2285251</td>\n",
       "      <td>Léraba Occidentale</td>\n",
       "      <td>Leraba Occidentale</td>\n",
       "      <td>Badini,La Leraba Occidentale,Leraba,Leraba Occ...</td>\n",
       "      <td>10.28333</td>\n",
       "      <td>-5.11667</td>\n",
       "      <td>H</td>\n",
       "      <td>STM</td>\n",
       "      <td>BF</td>\n",
       "      <td>CI</td>\n",
       "      <td>00</td>\n",
       "      <td>NaN</td>\n",
       "      <td>NaN</td>\n",
       "      <td>NaN</td>\n",
       "      <td>0</td>\n",
       "      <td>NaN</td>\n",
       "      <td>283</td>\n",
       "      <td>Africa/Abidjan</td>\n",
       "      <td>2023-11-07</td>\n",
       "    </tr>\n",
       "    <tr>\n",
       "      <th>2</th>\n",
       "      <td>2287216</td>\n",
       "      <td>Kéléouoro</td>\n",
       "      <td>Keleouoro</td>\n",
       "      <td>Keleouoro,Keleworo,Kéléouoro,Kéléworo</td>\n",
       "      <td>9.80748</td>\n",
       "      <td>-4.05023</td>\n",
       "      <td>H</td>\n",
       "      <td>STM</td>\n",
       "      <td>BF</td>\n",
       "      <td>BF,CI</td>\n",
       "      <td>00</td>\n",
       "      <td>NaN</td>\n",
       "      <td>NaN</td>\n",
       "      <td>NaN</td>\n",
       "      <td>0</td>\n",
       "      <td>NaN</td>\n",
       "      <td>261</td>\n",
       "      <td>Africa/Abidjan</td>\n",
       "      <td>2023-11-07</td>\n",
       "    </tr>\n",
       "    <tr>\n",
       "      <th>3</th>\n",
       "      <td>2294066</td>\n",
       "      <td>White Volta</td>\n",
       "      <td>White Volta</td>\n",
       "      <td>Nakambe,Nakambé,Nakanbe,Nakanbé,Volta Blanche,...</td>\n",
       "      <td>8.70194</td>\n",
       "      <td>-0.99056</td>\n",
       "      <td>H</td>\n",
       "      <td>STM</td>\n",
       "      <td>BF</td>\n",
       "      <td>GH</td>\n",
       "      <td>00</td>\n",
       "      <td>NaN</td>\n",
       "      <td>NaN</td>\n",
       "      <td>NaN</td>\n",
       "      <td>0</td>\n",
       "      <td>NaN</td>\n",
       "      <td>75</td>\n",
       "      <td>Africa/Accra</td>\n",
       "      <td>2023-11-08</td>\n",
       "    </tr>\n",
       "    <tr>\n",
       "      <th>4</th>\n",
       "      <td>2298457</td>\n",
       "      <td>Issana Bouga</td>\n",
       "      <td>Issana Bouga</td>\n",
       "      <td>Issana Bouga,Lanyung,Lanyunga</td>\n",
       "      <td>10.91667</td>\n",
       "      <td>-1.18333</td>\n",
       "      <td>H</td>\n",
       "      <td>STM</td>\n",
       "      <td>BF</td>\n",
       "      <td>NaN</td>\n",
       "      <td>00</td>\n",
       "      <td>NaN</td>\n",
       "      <td>NaN</td>\n",
       "      <td>NaN</td>\n",
       "      <td>0</td>\n",
       "      <td>NaN</td>\n",
       "      <td>178</td>\n",
       "      <td>Africa/Accra</td>\n",
       "      <td>2023-11-08</td>\n",
       "    </tr>\n",
       "  </tbody>\n",
       "</table>\n",
       "</div>"
      ],
      "text/plain": [
       "   geonameid                name           asciiname  \\\n",
       "0    2282318              Pouéné              Pouene   \n",
       "1    2285251  Léraba Occidentale  Leraba Occidentale   \n",
       "2    2287216           Kéléouoro           Keleouoro   \n",
       "3    2294066         White Volta         White Volta   \n",
       "4    2298457        Issana Bouga        Issana Bouga   \n",
       "\n",
       "                                      alternatenames  latitude  longitude  \\\n",
       "0                                                NaN   9.72908   -2.78660   \n",
       "1  Badini,La Leraba Occidentale,Leraba,Leraba Occ...  10.28333   -5.11667   \n",
       "2              Keleouoro,Keleworo,Kéléouoro,Kéléworo   9.80748   -4.05023   \n",
       "3  Nakambe,Nakambé,Nakanbe,Nakanbé,Volta Blanche,...   8.70194   -0.99056   \n",
       "4                      Issana Bouga,Lanyung,Lanyunga  10.91667   -1.18333   \n",
       "\n",
       "  feature class feature code country code    cc2 admin1 cod  admin2 code  \\\n",
       "0             H          STM           BF    NaN         00          NaN   \n",
       "1             H          STM           BF     CI         00          NaN   \n",
       "2             H          STM           BF  BF,CI         00          NaN   \n",
       "3             H          STM           BF     GH         00          NaN   \n",
       "4             H          STM           BF    NaN         00          NaN   \n",
       "\n",
       "   admin3 code  admin4 code  population  elevation  dem        timezone  \\\n",
       "0          NaN          NaN           0        NaN  226  Africa/Abidjan   \n",
       "1          NaN          NaN           0        NaN  283  Africa/Abidjan   \n",
       "2          NaN          NaN           0        NaN  261  Africa/Abidjan   \n",
       "3          NaN          NaN           0        NaN   75    Africa/Accra   \n",
       "4          NaN          NaN           0        NaN  178    Africa/Accra   \n",
       "\n",
       "  modification date  \n",
       "0        2023-11-07  \n",
       "1        2023-11-07  \n",
       "2        2023-11-07  \n",
       "3        2023-11-08  \n",
       "4        2023-11-08  "
      ]
     },
     "execution_count": 7,
     "metadata": {},
     "output_type": "execute_result"
    }
   ],
   "source": [
    "# 3.0 Importation du fichier BF.txt\n",
    "columnsName = ['geonameid','name','asciiname','alternatenames','latitude','longitude','feature class','feature code','country code','cc2','admin1 cod','admin2 code','admin3 code','admin4 code','population','elevation','dem' ,'timezone','modification date']\n",
    "BF=pd.read_csv(\"Input_Data/BF.txt\", delimiter='\\t', names=columnsName)\n",
    "BF.head()"
   ]
  },
  {
   "cell_type": "markdown",
   "id": "574f95ed",
   "metadata": {},
   "source": [
    "3.1 Ne garder que les colonnes correspondantes Identifiants, Noms de lieux, latitudes, longitudes"
   ]
  },
  {
   "cell_type": "code",
   "execution_count": 8,
   "id": "935b64f7-0de3-47ed-a2a7-702df9ee40a7",
   "metadata": {},
   "outputs": [
    {
     "data": {
      "text/html": [
       "<div>\n",
       "<style scoped>\n",
       "    .dataframe tbody tr th:only-of-type {\n",
       "        vertical-align: middle;\n",
       "    }\n",
       "\n",
       "    .dataframe tbody tr th {\n",
       "        vertical-align: top;\n",
       "    }\n",
       "\n",
       "    .dataframe thead th {\n",
       "        text-align: right;\n",
       "    }\n",
       "</style>\n",
       "<table border=\"1\" class=\"dataframe\">\n",
       "  <thead>\n",
       "    <tr style=\"text-align: right;\">\n",
       "      <th></th>\n",
       "      <th>geonameid</th>\n",
       "      <th>name</th>\n",
       "      <th>latitude</th>\n",
       "      <th>longitude</th>\n",
       "    </tr>\n",
       "  </thead>\n",
       "  <tbody>\n",
       "    <tr>\n",
       "      <th>0</th>\n",
       "      <td>2282318</td>\n",
       "      <td>Pouéné</td>\n",
       "      <td>9.72908</td>\n",
       "      <td>-2.78660</td>\n",
       "    </tr>\n",
       "    <tr>\n",
       "      <th>1</th>\n",
       "      <td>2285251</td>\n",
       "      <td>Léraba Occidentale</td>\n",
       "      <td>10.28333</td>\n",
       "      <td>-5.11667</td>\n",
       "    </tr>\n",
       "    <tr>\n",
       "      <th>2</th>\n",
       "      <td>2287216</td>\n",
       "      <td>Kéléouoro</td>\n",
       "      <td>9.80748</td>\n",
       "      <td>-4.05023</td>\n",
       "    </tr>\n",
       "    <tr>\n",
       "      <th>3</th>\n",
       "      <td>2294066</td>\n",
       "      <td>White Volta</td>\n",
       "      <td>8.70194</td>\n",
       "      <td>-0.99056</td>\n",
       "    </tr>\n",
       "    <tr>\n",
       "      <th>4</th>\n",
       "      <td>2298457</td>\n",
       "      <td>Issana Bouga</td>\n",
       "      <td>10.91667</td>\n",
       "      <td>-1.18333</td>\n",
       "    </tr>\n",
       "  </tbody>\n",
       "</table>\n",
       "</div>"
      ],
      "text/plain": [
       "   geonameid                name  latitude  longitude\n",
       "0    2282318              Pouéné   9.72908   -2.78660\n",
       "1    2285251  Léraba Occidentale  10.28333   -5.11667\n",
       "2    2287216           Kéléouoro   9.80748   -4.05023\n",
       "3    2294066         White Volta   8.70194   -0.99056\n",
       "4    2298457        Issana Bouga  10.91667   -1.18333"
      ]
     },
     "execution_count": 8,
     "metadata": {},
     "output_type": "execute_result"
    }
   ],
   "source": [
    "# 3.1 Ne garder que les colonnes correspondantes Identifiants, Noms de lieux, latitudes, longitudes\n",
    "BF= BF[['geonameid', 'name', 'latitude', 'longitude']]\n",
    "BF.head()"
   ]
  },
  {
   "cell_type": "markdown",
   "id": "078203af",
   "metadata": {},
   "source": [
    "3.2 Renommez les avec les noms suivants : 'ID', 'location_name', 'lat', 'long'"
   ]
  },
  {
   "cell_type": "code",
   "execution_count": 9,
   "id": "e02c92c6-946f-4e28-bb7f-ffab4a707776",
   "metadata": {},
   "outputs": [
    {
     "data": {
      "text/html": [
       "<div>\n",
       "<style scoped>\n",
       "    .dataframe tbody tr th:only-of-type {\n",
       "        vertical-align: middle;\n",
       "    }\n",
       "\n",
       "    .dataframe tbody tr th {\n",
       "        vertical-align: top;\n",
       "    }\n",
       "\n",
       "    .dataframe thead th {\n",
       "        text-align: right;\n",
       "    }\n",
       "</style>\n",
       "<table border=\"1\" class=\"dataframe\">\n",
       "  <thead>\n",
       "    <tr style=\"text-align: right;\">\n",
       "      <th></th>\n",
       "      <th>ID</th>\n",
       "      <th>location_name</th>\n",
       "      <th>lat</th>\n",
       "      <th>long</th>\n",
       "    </tr>\n",
       "  </thead>\n",
       "  <tbody>\n",
       "    <tr>\n",
       "      <th>0</th>\n",
       "      <td>2282318</td>\n",
       "      <td>Pouéné</td>\n",
       "      <td>9.72908</td>\n",
       "      <td>-2.78660</td>\n",
       "    </tr>\n",
       "    <tr>\n",
       "      <th>1</th>\n",
       "      <td>2285251</td>\n",
       "      <td>Léraba Occidentale</td>\n",
       "      <td>10.28333</td>\n",
       "      <td>-5.11667</td>\n",
       "    </tr>\n",
       "    <tr>\n",
       "      <th>2</th>\n",
       "      <td>2287216</td>\n",
       "      <td>Kéléouoro</td>\n",
       "      <td>9.80748</td>\n",
       "      <td>-4.05023</td>\n",
       "    </tr>\n",
       "    <tr>\n",
       "      <th>3</th>\n",
       "      <td>2294066</td>\n",
       "      <td>White Volta</td>\n",
       "      <td>8.70194</td>\n",
       "      <td>-0.99056</td>\n",
       "    </tr>\n",
       "    <tr>\n",
       "      <th>4</th>\n",
       "      <td>2298457</td>\n",
       "      <td>Issana Bouga</td>\n",
       "      <td>10.91667</td>\n",
       "      <td>-1.18333</td>\n",
       "    </tr>\n",
       "  </tbody>\n",
       "</table>\n",
       "</div>"
      ],
      "text/plain": [
       "        ID       location_name       lat     long\n",
       "0  2282318              Pouéné   9.72908 -2.78660\n",
       "1  2285251  Léraba Occidentale  10.28333 -5.11667\n",
       "2  2287216           Kéléouoro   9.80748 -4.05023\n",
       "3  2294066         White Volta   8.70194 -0.99056\n",
       "4  2298457        Issana Bouga  10.91667 -1.18333"
      ]
     },
     "execution_count": 9,
     "metadata": {},
     "output_type": "execute_result"
    }
   ],
   "source": [
    "# 3.2 Renommez les avec les noms suivants : 'ID', 'location_name', 'lat', 'long'\n",
    "BF.columns=['ID', 'location_name', 'lat', 'long']\n",
    "BF.head()"
   ]
  },
  {
   "cell_type": "markdown",
   "id": "395851cb-537e-4e2a-b563-0b9bbb72e52e",
   "metadata": {},
   "source": [
    "3.3 Sauvegarder ces données dans un fichier CSV, nommez-le burkina_location.csv"
   ]
  },
  {
   "cell_type": "code",
   "execution_count": 10,
   "id": "aeda3a5f-1b8f-4285-863c-10da607c8ef4",
   "metadata": {},
   "outputs": [],
   "source": [
    "# 3.3 Sauvegarder ces données dans un fichier CSV, nommez-le burkina_location.csv\n",
    "BF.to_csv(\"burkina_location.csv\", index=False)"
   ]
  },
  {
   "cell_type": "markdown",
   "id": "db111706-e3c9-4b34-ab6b-5279fe173318",
   "metadata": {},
   "source": [
    "# 4 - Opérations sur le fichier CSV burkina_location.csv."
   ]
  },
  {
   "cell_type": "markdown",
   "id": "1423a025-13d7-40d5-87d4-f0e14cca7c52",
   "metadata": {},
   "source": [
    "4.1 Extraire les données contenant le nom 'gounghin', enregistrez-le sous le fichier gounghin.csv"
   ]
  },
  {
   "cell_type": "code",
   "execution_count": 11,
   "id": "cb4ecc9e-0345-4ade-919a-5366ff2f5737",
   "metadata": {},
   "outputs": [
    {
     "data": {
      "text/html": [
       "<div>\n",
       "<style scoped>\n",
       "    .dataframe tbody tr th:only-of-type {\n",
       "        vertical-align: middle;\n",
       "    }\n",
       "\n",
       "    .dataframe tbody tr th {\n",
       "        vertical-align: top;\n",
       "    }\n",
       "\n",
       "    .dataframe thead th {\n",
       "        text-align: right;\n",
       "    }\n",
       "</style>\n",
       "<table border=\"1\" class=\"dataframe\">\n",
       "  <thead>\n",
       "    <tr style=\"text-align: right;\">\n",
       "      <th></th>\n",
       "      <th>ID</th>\n",
       "      <th>location_name</th>\n",
       "      <th>lat</th>\n",
       "      <th>long</th>\n",
       "    </tr>\n",
       "  </thead>\n",
       "  <tbody>\n",
       "    <tr>\n",
       "      <th>153</th>\n",
       "      <td>2353306</td>\n",
       "      <td>Gounghin</td>\n",
       "      <td>12.06677</td>\n",
       "      <td>-1.42134</td>\n",
       "    </tr>\n",
       "    <tr>\n",
       "      <th>7270</th>\n",
       "      <td>2360473</td>\n",
       "      <td>Gounghin</td>\n",
       "      <td>12.62488</td>\n",
       "      <td>-1.36398</td>\n",
       "    </tr>\n",
       "    <tr>\n",
       "      <th>10259</th>\n",
       "      <td>2570204</td>\n",
       "      <td>Gounghin</td>\n",
       "      <td>12.31436</td>\n",
       "      <td>-1.37900</td>\n",
       "    </tr>\n",
       "    <tr>\n",
       "      <th>10745</th>\n",
       "      <td>10342749</td>\n",
       "      <td>Gounghin</td>\n",
       "      <td>12.06667</td>\n",
       "      <td>-0.15000</td>\n",
       "    </tr>\n",
       "    <tr>\n",
       "      <th>10758</th>\n",
       "      <td>10629032</td>\n",
       "      <td>BICIAB // Gounghin</td>\n",
       "      <td>12.35921</td>\n",
       "      <td>-1.54273</td>\n",
       "    </tr>\n",
       "  </tbody>\n",
       "</table>\n",
       "</div>"
      ],
      "text/plain": [
       "             ID       location_name       lat     long\n",
       "153     2353306            Gounghin  12.06677 -1.42134\n",
       "7270    2360473            Gounghin  12.62488 -1.36398\n",
       "10259   2570204            Gounghin  12.31436 -1.37900\n",
       "10745  10342749            Gounghin  12.06667 -0.15000\n",
       "10758  10629032  BICIAB // Gounghin  12.35921 -1.54273"
      ]
     },
     "execution_count": 11,
     "metadata": {},
     "output_type": "execute_result"
    }
   ],
   "source": [
    "# Importation du fichier burkina_location\n",
    "df_bl = pd.read_csv(\"burkina_location.csv\")\n",
    "# Filtre des lignes contenant le nom 'gounghin'\n",
    "df_gounghin = df_bl[df_bl['location_name'].str.contains('gounghin', case=False)]\n",
    "df_gounghin.to_csv(\"gounghin.csv\", index=False)\n",
    "df_gounghin.head()"
   ]
  },
  {
   "cell_type": "markdown",
   "id": "af01aabc-2ad2-468f-a694-d9fc4a38f6a8",
   "metadata": {},
   "source": [
    "4.2 extraire la sous-partie de la base de données (fichier burkina_location.csv), dont les noms les premières lettres des noms de lieux sont compris entre 'A' et 'P' (ordre alphabétique)"
   ]
  },
  {
   "cell_type": "code",
   "execution_count": 16,
   "id": "7b335e6b-0dd4-49db-bc50-127c4b2cd701",
   "metadata": {},
   "outputs": [
    {
     "data": {
      "text/html": [
       "<div>\n",
       "<style scoped>\n",
       "    .dataframe tbody tr th:only-of-type {\n",
       "        vertical-align: middle;\n",
       "    }\n",
       "\n",
       "    .dataframe tbody tr th {\n",
       "        vertical-align: top;\n",
       "    }\n",
       "\n",
       "    .dataframe thead th {\n",
       "        text-align: right;\n",
       "    }\n",
       "</style>\n",
       "<table border=\"1\" class=\"dataframe\">\n",
       "  <thead>\n",
       "    <tr style=\"text-align: right;\">\n",
       "      <th></th>\n",
       "      <th>ID</th>\n",
       "      <th>location_name</th>\n",
       "      <th>lat</th>\n",
       "      <th>long</th>\n",
       "    </tr>\n",
       "  </thead>\n",
       "  <tbody>\n",
       "    <tr>\n",
       "      <th>10647</th>\n",
       "      <td>6913771</td>\n",
       "      <td>Abanda</td>\n",
       "      <td>15.06808</td>\n",
       "      <td>-0.59805</td>\n",
       "    </tr>\n",
       "    <tr>\n",
       "      <th>10032</th>\n",
       "      <td>2363251</td>\n",
       "      <td>Abanga</td>\n",
       "      <td>13.32429</td>\n",
       "      <td>0.31151</td>\n",
       "    </tr>\n",
       "    <tr>\n",
       "      <th>11092</th>\n",
       "      <td>11980339</td>\n",
       "      <td>Abassi</td>\n",
       "      <td>12.27728</td>\n",
       "      <td>-1.13662</td>\n",
       "    </tr>\n",
       "    <tr>\n",
       "      <th>10600</th>\n",
       "      <td>6874881</td>\n",
       "      <td>Abaye</td>\n",
       "      <td>13.44080</td>\n",
       "      <td>-3.90190</td>\n",
       "    </tr>\n",
       "    <tr>\n",
       "      <th>10030</th>\n",
       "      <td>2363249</td>\n",
       "      <td>Abra</td>\n",
       "      <td>13.09140</td>\n",
       "      <td>-1.34752</td>\n",
       "    </tr>\n",
       "  </tbody>\n",
       "</table>\n",
       "</div>"
      ],
      "text/plain": [
       "             ID location_name       lat     long\n",
       "10647   6913771        Abanda  15.06808 -0.59805\n",
       "10032   2363251        Abanga  13.32429  0.31151\n",
       "11092  11980339        Abassi  12.27728 -1.13662\n",
       "10600   6874881         Abaye  13.44080 -3.90190\n",
       "10030   2363249          Abra  13.09140 -1.34752"
      ]
     },
     "execution_count": 16,
     "metadata": {},
     "output_type": "execute_result"
    }
   ],
   "source": [
    "# 4.2 extraire la sous-partie de la base de données (fichier burkina_location.csv), dont les noms les premières lettres des noms de lieux sont compris entre 'A' et 'P' (ordre alphabétique)\n",
    "df_locationNameInAndP = (df_bl[df_bl['location_name'].str[0].str.upper().between('A', 'P')]).sort_values(by='location_name')\n",
    "df_locationNameInAndP.shape[0]\n",
    "df_locationNameInAndP.head()"
   ]
  },
  {
   "cell_type": "markdown",
   "id": "ce84420e-364e-4dba-a9d4-3708158e984d",
   "metadata": {},
   "source": [
    "4.3 Identifiez respectivement, la latitude, la longitude minimale et les noms de lieux correspondants"
   ]
  },
  {
   "cell_type": "code",
   "execution_count": 58,
   "id": "98b4dcbc-6fec-4fc0-bd3c-e981fd0fe3d2",
   "metadata": {},
   "outputs": [
    {
     "name": "stdout",
     "output_type": "stream",
     "text": [
      "Le nom du lieu ayant la latitude minimale est: Komoé avec un latitude minimale de: 5.21609\n",
      "Le nom du lieu ayant la longitude minimale est: Banifing avec un longitude minimale de: 12.01147\n"
     ]
    }
   ],
   "source": [
    "# 4.3 Identifiez respectivement, la latitude, la longitude minimale et les noms de lieux correspondants\n",
    "# Latitude minimale\n",
    "latitudeMin = df_bl.loc[df_bl['lat'].idxmin(), 'lat']\n",
    "# Nom de lieu correspondant à la latitude minimale\n",
    "LieuLatMin = df_bl.loc[df_bl['lat'].idxmin(), 'location_name']\n",
    "print(\"Le nom du lieu ayant la latitude minimale est:\", LieuLatMin, \"avec un latitude minimale de:\", latitudeMin)\n",
    "# Longitude maximale\n",
    "longitudeMin = df_bl.loc[df_bl['long'].idxmin(), 'lat']\n",
    "# Nom de lieu correspondant à la latitude minimale\n",
    "LieuLongMin = df_bl.loc[df_bl['long'].idxmin(), 'location_name']\n",
    "print(\"Le nom du lieu ayant la longitude minimale est:\", LieuLongMin, \"avec un longitude minimale de:\", longitudeMin)"
   ]
  },
  {
   "cell_type": "markdown",
   "id": "441ccfa1-d37a-455b-b31a-58249597a828",
   "metadata": {},
   "source": [
    "4.4 Quels sont les lieux dont les coordonnées sont comprises entre (lat >= 11 et lon <= 0.5)"
   ]
  },
  {
   "cell_type": "code",
   "execution_count": 59,
   "id": "1aa53cd4-92da-439b-ad7a-0d8c858eb172",
   "metadata": {},
   "outputs": [
    {
     "data": {
      "text/html": [
       "<div>\n",
       "<style scoped>\n",
       "    .dataframe tbody tr th:only-of-type {\n",
       "        vertical-align: middle;\n",
       "    }\n",
       "\n",
       "    .dataframe tbody tr th {\n",
       "        vertical-align: top;\n",
       "    }\n",
       "\n",
       "    .dataframe thead th {\n",
       "        text-align: right;\n",
       "    }\n",
       "</style>\n",
       "<table border=\"1\" class=\"dataframe\">\n",
       "  <thead>\n",
       "    <tr style=\"text-align: right;\">\n",
       "      <th></th>\n",
       "      <th>ID</th>\n",
       "      <th>location_name</th>\n",
       "      <th>lat</th>\n",
       "      <th>long</th>\n",
       "    </tr>\n",
       "  </thead>\n",
       "  <tbody>\n",
       "    <tr>\n",
       "      <th>5</th>\n",
       "      <td>2353158</td>\n",
       "      <td>Zyonguen</td>\n",
       "      <td>12.36667</td>\n",
       "      <td>-0.45000</td>\n",
       "    </tr>\n",
       "    <tr>\n",
       "      <th>6</th>\n",
       "      <td>2353159</td>\n",
       "      <td>Zyiliwèlè</td>\n",
       "      <td>12.38333</td>\n",
       "      <td>-2.73333</td>\n",
       "    </tr>\n",
       "    <tr>\n",
       "      <th>7</th>\n",
       "      <td>2353160</td>\n",
       "      <td>Zyanko</td>\n",
       "      <td>12.78333</td>\n",
       "      <td>-0.41667</td>\n",
       "    </tr>\n",
       "    <tr>\n",
       "      <th>8</th>\n",
       "      <td>2353161</td>\n",
       "      <td>Zouta</td>\n",
       "      <td>13.14908</td>\n",
       "      <td>-1.28197</td>\n",
       "    </tr>\n",
       "    <tr>\n",
       "      <th>9</th>\n",
       "      <td>2353162</td>\n",
       "      <td>Zourtenga</td>\n",
       "      <td>12.95741</td>\n",
       "      <td>-1.28745</td>\n",
       "    </tr>\n",
       "  </tbody>\n",
       "</table>\n",
       "</div>"
      ],
      "text/plain": [
       "        ID location_name       lat     long\n",
       "5  2353158      Zyonguen  12.36667 -0.45000\n",
       "6  2353159     Zyiliwèlè  12.38333 -2.73333\n",
       "7  2353160        Zyanko  12.78333 -0.41667\n",
       "8  2353161         Zouta  13.14908 -1.28197\n",
       "9  2353162     Zourtenga  12.95741 -1.28745"
      ]
     },
     "execution_count": 59,
     "metadata": {},
     "output_type": "execute_result"
    }
   ],
   "source": [
    "sdf_bl = df_bl[(df_bl['lat'] >= 11) & (df_bl['long'] <= 0.5)]\n",
    "sdf_bl.head()"
   ]
  },
  {
   "cell_type": "markdown",
   "id": "bda1c03a-abc4-4d79-80c1-5397da8797b5",
   "metadata": {},
   "source": [
    "# 5 - Sorties Excel\n"
   ]
  },
  {
   "cell_type": "markdown",
   "id": "85e8f614",
   "metadata": {},
   "source": [
    "5.1 Créer un fichier Excel et nommer le : mini_projet"
   ]
  },
  {
   "cell_type": "code",
   "execution_count": 60,
   "id": "12d63b99-3842-4cb6-8a1d-23227564a06b",
   "metadata": {},
   "outputs": [
    {
     "name": "stdout",
     "output_type": "stream",
     "text": [
      "Requirement already satisfied: xlsxwriter in c:\\users\\admin\\anaconda3\\lib\\site-packages (3.1.9)\n"
     ]
    },
    {
     "name": "stderr",
     "output_type": "stream",
     "text": [
      "\n",
      "[notice] A new release of pip is available: 23.3.2 -> 24.0\n",
      "[notice] To update, run: python.exe -m pip install --upgrade pip\n"
     ]
    }
   ],
   "source": [
    "# 5.1 Créer un fichier Excel et nommer le : mini_projet\n",
    "!pip install xlsxwriter\n",
    "fileMiniProjet = pd.ExcelWriter(\"mini_projet.xlsx\", engine='xlsxwriter')"
   ]
  },
  {
   "cell_type": "markdown",
   "id": "e8255a82",
   "metadata": {},
   "source": [
    "5.2 Créer une feuille dans ce fichier, du nom gounghin et enregistrer les données contenant le nom 'gounghin' obtenues dans 4.1"
   ]
  },
  {
   "cell_type": "code",
   "execution_count": 64,
   "id": "ac8a32a0",
   "metadata": {},
   "outputs": [],
   "source": [
    "# 5.2 Créer une feuille dans ce fichier, du nom gounghin et enregistrer les données contenant le nom 'gounghin' obtenues dans 4.1\n",
    "df_gounghin.to_excel(fileMiniProjet, sheet_name='gounghin', index=False)"
   ]
  },
  {
   "cell_type": "markdown",
   "id": "0764d7bf",
   "metadata": {},
   "source": [
    "5.3 Créer une second feuille dans ce même fichier, du nom A_to_P et enregistrer les données de 4.2"
   ]
  },
  {
   "cell_type": "code",
   "execution_count": 65,
   "id": "4422b266",
   "metadata": {},
   "outputs": [],
   "source": [
    "# 5.3 Créer une second feuille dans ce même fichier, du nom A_to_P et enregistrer les données de 4.2\n",
    "df_locationNameInAndP.to_excel(fileMiniProjet, sheet_name='A_to_P', index=False)\n",
    "fileMiniProjet.close()"
   ]
  },
  {
   "cell_type": "code",
   "execution_count": null,
   "id": "1eb93191",
   "metadata": {},
   "outputs": [],
   "source": []
  }
 ],
 "metadata": {
  "kernelspec": {
   "display_name": "Python 3 (ipykernel)",
   "language": "python",
   "name": "python3"
  },
  "language_info": {
   "codemirror_mode": {
    "name": "ipython",
    "version": 3
   },
   "file_extension": ".py",
   "mimetype": "text/x-python",
   "name": "python",
   "nbconvert_exporter": "python",
   "pygments_lexer": "ipython3",
   "version": "3.11.5"
  },
  "widgets": {
   "application/vnd.jupyter.widget-state+json": {
    "state": {},
    "version_major": 2,
    "version_minor": 0
   }
  }
 },
 "nbformat": 4,
 "nbformat_minor": 5
}
